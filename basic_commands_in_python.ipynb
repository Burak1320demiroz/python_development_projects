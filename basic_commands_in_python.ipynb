{
 "cells": [
  {
   "cell_type": "code",
   "execution_count": 1,
   "id": "c1f8edcd",
   "metadata": {},
   "outputs": [
    {
     "name": "stdout",
     "output_type": "stream",
     "text": [
      "Merhaba! Kendimi tanıtayım.\n",
      "Adı: Burak\n",
      "Yaşı: 23\n",
      "Meslek: Öğrenci\n",
      "Adresi: Bursa\n",
      "Doğum Yeri: Bursa\n"
     ]
    }
   ],
   "source": [
    "print(\"Merhaba! Kendimi tanıtayım.\")\n",
    "print(\"Adı: Burak\")\n",
    "print(\"Yaşı: 23\")\n",
    "print(\"Meslek: Öğrenci\")\n",
    "print(\"Adresi: Bursa\")\n",
    "print(\"Doğum Yeri: Bursa\")"
   ]
  },
  {
   "cell_type": "code",
   "execution_count": null,
   "id": "dc81650e",
   "metadata": {},
   "outputs": [
    {
     "name": "stdout",
     "output_type": "stream",
     "text": [
      "Hello World\n",
      "Hello\n",
      "World\n",
      "Hello   World\n",
      "Hello World!\n",
      "HelloWorld!\n",
      "HelloHelloHello\n"
     ]
    },
    {
     "name": "stdout",
     "output_type": "stream",
     "text": [
      "Hello World\n",
      "Hello\n",
      "World\n",
      "Hello   World\n",
      "Hello World!\n",
      "HelloWorld!\n",
      "HelloHelloHello\n"
     ]
    }
   ],
   "source": [
    "print(\"Hello World\")\n",
    "print('''Hello\n",
    "World''')\n",
    "print('''Hello\\\n",
    "   World''')\n",
    "print(\"Hello\", \"World!\")\n",
    "print(\"Hello\" + \"World!\")\n",
    "print(\"Hello\" * 3)\n"
   ]
  },
  {
   "cell_type": "code",
   "execution_count": null,
   "id": "f25a5525",
   "metadata": {},
   "outputs": [
    {
     "name": "stdout",
     "output_type": "stream",
     "text": [
      "World!\n"
     ]
    }
   ],
   "source": [
    "# print(\"Hello\", \"World!\", 2, sep=\"#\")\n",
    "# print(\"Hello\", \"World!\", \"Test\", sep=\"\")\n",
    "# print(\"Hello\", \"test\", end = \"\")\n",
    "# print(\"World!\")"
   ]
  },
  {
   "cell_type": "code",
   "execution_count": 12,
   "id": "b16cd1eb",
   "metadata": {},
   "outputs": [
    {
     "name": "stdout",
     "output_type": "stream",
     "text": [
      "17\n",
      "2.5\n",
      "7.5\n",
      "70\n",
      "5.0\n",
      "3\n",
      "1\n",
      "100\n"
     ]
    }
   ],
   "source": [
    "print(10 + 7)\n",
    "print(10 - 7.5)\n",
    "print(7.5)\n",
    "print(10 * 7)\n",
    "print(10 / 2)\n",
    "print(10 // 3)\n",
    "print(10 % 3)\n",
    "print(10 ** 2)"
   ]
  },
  {
   "cell_type": "code",
   "execution_count": 13,
   "id": "c6a3b5ab",
   "metadata": {},
   "outputs": [
    {
     "name": "stdout",
     "output_type": "stream",
     "text": [
      "      *\n",
      "     ***\n",
      "    *****\n",
      "  *********\n",
      "    *****\n",
      "     ***\n",
      "      *\n"
     ]
    }
   ],
   "source": [
    "print(\"     \", \"*\")\n",
    "print(\"    \", \"*\" * 3)\n",
    "print(\"   \", \"*\" * 5)\n",
    "print(\" \", \"*\" * 9)\n",
    "print(\"   \", \"*\" * 5)\n",
    "print(\"    \", \"*\" * 3)\n",
    "print(\"     \", \"*\")"
   ]
  },
  {
   "cell_type": "code",
   "execution_count": 4,
   "id": "863b1961",
   "metadata": {},
   "outputs": [
    {
     "name": "stdout",
     "output_type": "stream",
     "text": [
      "Toplama (125.0 + 50.0) : 175.0\n",
      "Çıkarma (125.0 - 50.0) : 75.0\n",
      "Çarpma (125.0 * 50.0) : 6250.0\n",
      "Bölme (125.0 / 50.0) : 2.5\n",
      "Tam Bölme (125.0 // 50.0) : 2.0\n",
      "Kalan (125.0 % 50.0) : 25.0\n",
      "Üs Alma (125.0 ** 50.0) : 7.006492321624085e+104\n"
     ]
    }
   ],
   "source": [
    "# Kullanıcıdan iki sayı al\n",
    "sayi1 = float(input(\"Birinci sayıyı girin: \"))\n",
    "sayi2 = float(input(\"İkinci sayıyı girin: \"))\n",
    "\n",
    "# Aritmetik işlemleri gerçekleştir\n",
    "toplam = sayi1 + sayi2  # Toplama\n",
    "fark = sayi1 - sayi2    # Çıkarma\n",
    "carpim = sayi1 * sayi2  # Çarpma\n",
    "bolum = sayi1 / sayi2    # Bölme\n",
    "floor_bolum = sayi1 // sayi2  # Tam bölme (quotient)\n",
    "kalan = sayi1 % sayi2    # Kalan\n",
    "kuvvet = sayi1 ** sayi2  # Üs alma\n",
    "\n",
    "# Sonuçları ekrana yazdır\n",
    "print('Toplama ({} + {}) : {}'.format(sayi1, sayi2, toplam))\n",
    "print('Çıkarma ({} - {}) : {}'.format(sayi1, sayi2, fark))\n",
    "print('Çarpma ({} * {}) : {}'.format(sayi1, sayi2, carpim))\n",
    "print('Bölme ({} / {}) : {}'.format(sayi1, sayi2, bolum))\n",
    "print('Tam Bölme ({} // {}) : {}'.format(sayi1, sayi2, floor_bolum))\n",
    "print('Kalan ({} % {}) : {}'.format(sayi1, sayi2, kalan))\n",
    "print('Üs Alma ({} ** {}) : {}'.format(sayi1, sayi2, kuvvet))\n"
   ]
  },
  {
   "cell_type": "code",
   "execution_count": null,
   "id": "7dceeb05",
   "metadata": {},
   "outputs": [
    {
     "name": "stdout",
     "output_type": "stream",
     "text": [
      "Mutlak Değer :  103.8876\n",
      "Karekök :  10.192526673990116\n",
      "İkilik Tabanda :  0b1100111\n",
      "Sekizlik Tabanda :  0o147\n",
      "Onaltılık Tabanda :  0x67\n",
      "Yuvarlama :  104\n",
      "Aşağı Yuvarlama :  103\n",
      "Yukarı Yuvarlama :  104\n"
     ]
    }
   ],
   "source": [
    "import math\n",
    "\n",
    "# Kullanıcıdan bir sayı al\n",
    "sayi = float(input(\"Bir sayı girin: \"))\n",
    "\n",
    "# Aritmetik işlemleri gerçekleştir\n",
    "mutlak_deger = abs(sayi)\n",
    "karekök = math.sqrt(sayi) if sayi >= 0 else \"Negatif sayının karekökü yok\"\n",
    "yuvarlama = round(sayi)\n",
    "asagi_yuvarlama = math.floor(sayi)\n",
    "yukari_yuvarlama = math.ceil(sayi)\n",
    "\n",
    "# Sonuçları ekrana yazdır\n",
    "print('Mutlak Değer : ', mutlak_deger)\n",
    "print('Karekök : ', karekök)\n",
    "print('Yuvarlama : ', yuvarlama)\n",
    "print('Aşağı Yuvarlama : ', asagi_yuvarlama)\n",
    "print('Yukarı Yuvarlama : ', yukari_yuvarlama)"
   ]
  },
  {
   "cell_type": "code",
   "execution_count": 5,
   "id": "3de762fa",
   "metadata": {},
   "outputs": [
    {
     "name": "stdout",
     "output_type": "stream",
     "text": [
      "300\n",
      "0\n"
     ]
    }
   ],
   "source": [
    "x, y = 100, 200\n",
    "result = x + y\n",
    "print(result)\n",
    "x, y, z = 100, 200, 300\n",
    "result = x + y - z\n",
    "print(result)"
   ]
  },
  {
   "cell_type": "code",
   "execution_count": 6,
   "id": "bd3afda2",
   "metadata": {},
   "outputs": [
    {
     "name": "stdout",
     "output_type": "stream",
     "text": [
      "200 200 200\n"
     ]
    }
   ],
   "source": [
    "num1 = num2 = num3 = 200\n",
    "print(num1, num2, num3)"
   ]
  },
  {
   "cell_type": "code",
   "execution_count": 7,
   "id": "fbd1feb5",
   "metadata": {},
   "outputs": [
    {
     "name": "stdout",
     "output_type": "stream",
     "text": [
      "300\n",
      "200\n",
      "4000\n",
      "2000.0\n"
     ]
    }
   ],
   "source": [
    "num = 200\n",
    "num += 100\n",
    "print(num)\n",
    "num -= 100\n",
    "print(num)\n",
    "num *= 20\n",
    "print(num)\n",
    "num /= 2\n",
    "print(num)"
   ]
  },
  {
   "cell_type": "code",
   "execution_count": null,
   "id": "8b026e99",
   "metadata": {},
   "outputs": [],
   "source": [
    "agirlik = float(input(\"Ağırlığı kg cinsinden girin: \"))\n",
    "boy = float(input(\"Boyu m cinsinden girin: \"))\n",
    "\n",
    "vki = (agirlik / (boy ** 2))\n",
    "print(\"Vücut Kitle İndeksiniz =\", vki)"
   ]
  },
  {
   "cell_type": "code",
   "execution_count": null,
   "id": "abd61e88",
   "metadata": {},
   "outputs": [],
   "source": [
    "para = int(input(\"Verilen Para: \"))\n",
    "fiyat = int(input(\"Ürünün Fiyatı: \"))\n",
    "\n",
    "geri_para = para - fiyat\n",
    "print(\"Geri Verilecek Tutar: \", geri_para)\n",
    "\n",
    "madeni_para500 = geri_para // 500\n",
    "geri_para = geri_para % 500\n",
    "madeni_para100 = geri_para // 100\n",
    "\n",
    "print(\"500 won madeni parası miktarı: \", madeni_para500)\n",
    "print(\"100 won madeni parası miktarı: \", madeni_para100)"
   ]
  },
  {
   "cell_type": "code",
   "execution_count": 11,
   "id": "6c1da975",
   "metadata": {},
   "outputs": [
    {
     "name": "stdout",
     "output_type": "stream",
     "text": [
      "Dikdörtgenin Alanı : 1800\n"
     ]
    }
   ],
   "source": [
    "genislik = 30\n",
    "yukseklik = 60\n",
    "dikdortgeninAlani = genislik * yukseklik\n",
    "print(\"Dikdörtgenin Alanı :\", dikdortgeninAlani)"
   ]
  },
  {
   "cell_type": "code",
   "execution_count": null,
   "id": "452a1cb0",
   "metadata": {},
   "outputs": [],
   "source": [
    "a = int(input(\"Birinci sayıyı girin (a) : \"))\n",
    "b = int(input(\"İkinci sayıyı girin (b) : \"))\n",
    "\n",
    "c = (a**2 + b**2) ** 0.5\n",
    "\n",
    "print(\"Sonuç (c) :\", c)"
   ]
  },
  {
   "cell_type": "code",
   "execution_count": 8,
   "id": "a3bfb50c",
   "metadata": {},
   "outputs": [
    {
     "name": "stdout",
     "output_type": "stream",
     "text": [
      "False\n",
      "True\n",
      "False\n",
      "True\n"
     ]
    }
   ],
   "source": [
    "x = True\n",
    "y = False\n",
    "print(x and y)\n",
    "print(x or y)\n",
    "print(not x)\n",
    "print(not y)"
   ]
  },
  {
   "cell_type": "code",
   "execution_count": 12,
   "id": "10b355fa",
   "metadata": {},
   "outputs": [
    {
     "name": "stdout",
     "output_type": "stream",
     "text": [
      "False\n",
      "True\n",
      "False\n",
      "True\n",
      "False\n",
      "True\n"
     ]
    }
   ],
   "source": [
    "a = 100\n",
    "b = 200\n",
    "print(a == b)\n",
    "print(a != b)\n",
    "print(a > b)\n",
    "print(a < b)\n",
    "print(a >= b)\n",
    "print(a <= b)"
   ]
  },
  {
   "cell_type": "code",
   "execution_count": 9,
   "id": "fe5ad516",
   "metadata": {},
   "outputs": [
    {
     "name": "stdout",
     "output_type": "stream",
     "text": [
      "True\n",
      "False\n",
      "True\n",
      "False\n",
      "True\n",
      "False\n",
      "False\n",
      "False\n",
      "True\n",
      "False\n",
      "True\n"
     ]
    }
   ],
   "source": [
    "print(bool(1))          # 1 değeri True olarak değerlendirilir.\n",
    "print(bool(0))          # 0 değeri False olarak değerlendirilir.\n",
    "print(bool(True))       # True değeri True'dur.\n",
    "print(bool(False))      # False değeri False'dur.\n",
    "\n",
    "# 0 dışındaki tüm sayılar True'dur.\n",
    "print(bool(-1))         # Negatif sayı (örneğin -1) True olarak değerlendirilir.\n",
    "\n",
    "print(bool(0))          # 0 değeri False olarak değerlendirilir.\n",
    "\n",
    "print(bool(None))       # None, 'değer yok' anlamına gelir ve False döner.\n",
    "\n",
    "print(bool(''))         # Boş string False olarak değerlendirilir.\n",
    "print(bool('hello'))    # İçinde karakter bulunan string (örneğin 'hello') True döner.\n",
    "\n",
    "print(bool([]))         # Boş liste False olarak değerlendirilir.\n",
    "print(bool([10, 20]))   # İçinde değer olan liste (örneğin [10, 20]) True döner."
   ]
  },
  {
   "cell_type": "code",
   "execution_count": 13,
   "id": "ae7e792f",
   "metadata": {},
   "outputs": [
    {
     "name": "stdout",
     "output_type": "stream",
     "text": [
      "True\n",
      "False\n",
      "False\n",
      "True\n",
      "True\n",
      "False\n",
      "True\n",
      "True\n",
      "False\n"
     ]
    }
   ],
   "source": [
    "print('aaa' == 'aaa')\n",
    "print('aaa' == 'bbb')\n",
    "print('aaa' != 'aaa')\n",
    "print('aaa' != 'bbb')\n",
    "a = 1\n",
    "b = 1.0\n",
    "print(a == b)\n",
    "print(a is b)\n",
    "print('aaa' in 'aaa-bbb-ccc')\n",
    "print('bbb' in 'aaa-bbb-ccc')\n",
    "print('ddd' in 'aaa-bbb-ccc')"
   ]
  },
  {
   "cell_type": "code",
   "execution_count": null,
   "id": "dfb2cf52",
   "metadata": {},
   "outputs": [],
   "source": [
    "import random\n",
    "\n",
    "n = random.randint(1, 5)\n",
    "if n == 1:\n",
    "    bilgisayar_secimi = \"Sol\"\n",
    "elif n == 2:\n",
    "    bilgisayar_secimi = \"Ortada\"\n",
    "elif n == 3:\n",
    "    bilgisayar_secimi = \"Sağ\"\n",
    "elif n == 4:\n",
    "    bilgisayar_secimi = \"Üst Sol\"\n",
    "elif n == 5:\n",
    "    bilgisayar_secimi = \"Üst Sağ\"\n",
    "\n",
    "kullanici_secimi = input(\"Hangi tarafa saldıracaksınız? (sol, ortada, sağ, üst sol, üst sağ) : \")\n",
    "if bilgisayar_secimi == kullanici_secimi:\n",
    "    print(\"Saldırı başarısız oldu.\")\n",
    "else:\n",
    "    print(\"Tebrikler!! Saldırı başarıyla gerçekleşti.\")\n",
    "print('Bilgisayar savunma pozisyonu :', bilgisayar_secimi)"
   ]
  },
  {
   "cell_type": "code",
   "execution_count": null,
   "id": "9e13e3b9",
   "metadata": {},
   "outputs": [],
   "source": [
    "print(\"1) Toplama   2) Çıkarma   3) Çarpma   4) Bölme\")\n",
    "secim = int(input(\"İşlem için istenen numarayı girin : \"))\n",
    "if secim <= 4:\n",
    "    num1, num2 = input(\"İşlem için iki sayıyı girin.: \").split()\n",
    "    num1 = int(num1)\n",
    "    num2 = int(num2)\n",
    "    if secim == 1:\n",
    "        print(num1, \"+\", num2, \"=\", num1 + num2)\n",
    "    elif secim == 2:\n",
    "        print(num1, \"-\", num2, \"=\", num1 - num2)\n",
    "    elif secim == 3:\n",
    "        print(num1, \"*\", num2, \"=\", num1 * num2)\n",
    "    elif secim == 4:\n",
    "        print(num1, \"/\", num2, \"=\", num1 / num2)\n",
    "else:\n",
    "    print(\"Yanlış bir numara girdiniz.\")"
   ]
  },
  {
   "cell_type": "code",
   "execution_count": null,
   "id": "8e5dae53",
   "metadata": {},
   "outputs": [],
   "source": [
    "import random\n",
    "\n",
    "print(\"Para atma oyununa başla.\")\n",
    "para = random.randrange(2)\n",
    "if para == 0:\n",
    "    print(\"Yaz.\")\n",
    "else:\n",
    "    print(\"Tura.\")\n",
    "print(\"Oyun sona erdi.\")"
   ]
  },
  {
   "cell_type": "code",
   "execution_count": null,
   "id": "45c99135",
   "metadata": {},
   "outputs": [],
   "source": [
    "my_id = \"penh\"\n",
    "password = \"@polydetAa\"\n",
    "string1 = input(\"Enter ID: \")\n",
    "string2 = input(\"Enter password: \")\n",
    "if string1 == my_id and string2 == password:\n",
    "    print(\"Welcome.\")\n",
    "elif string1 != my_id:\n",
    "    print(\"ID is not found.\")\n",
    "elif string2 != password:\n",
    "    print(\"The password is wrong.\")"
   ]
  },
  {
   "cell_type": "code",
   "execution_count": null,
   "id": "466f8a68",
   "metadata": {},
   "outputs": [],
   "source": [
    "print(\"#\" * 50)\n",
    "print(\"Bu, Penh Polydet'in meyve dükkanı\")\n",
    "print(\"1. Elma ( fiyat : 5000 won )\") \n",
    "print(\"2. Üzüm ( fiyat : 6000 won )\") \n",
    "print(\"3. Kavun ( fiyat : 8000 won )\") \n",
    "print(\"4. Portakal ( fiyat : 2000 won )\") \n",
    "print(\"#\" * 50)\n",
    "\n",
    "meyve = int(input(\"Ürün numarasını girin (1~4 arasında) >> \"))\n",
    "miktar = int(input(\"Ürün miktarını girin (1~10 arasında) >> \"))\n",
    "\n",
    "if meyve == 1:\n",
    "    meyve = \"Elma\"\n",
    "    fiyat = 5000\n",
    "elif meyve == 2:\n",
    "    meyve = \"Üzüm\"\n",
    "    fiyat = 6000\n",
    "elif meyve == 3:\n",
    "    meyve = \"Kavun\"\n",
    "    fiyat = 8000\n",
    "elif meyve == 4:\n",
    "    meyve = \"Portakal\"\n",
    "    fiyat = 2000\n",
    "\n",
    "print(\"Seçilen meyve :\", meyve)\n",
    "print(\"Fiyat :\", fiyat)\n",
    "print(\"Toplam fiyat:\", fiyat * miktar, \"won\")\n",
    "\n",
    "para = int(input(\"Lütfen parayı yerleştirin (örn: 15000) >>> \"))\n",
    "if para < fiyat * miktar:\n",
    "    print(\"Yetersiz para\")\n",
    "else:\n",
    "    print(para, \"won alındı. Değişiklik: \", para - fiyat * miktar)"
   ]
  },
  {
   "cell_type": "code",
   "execution_count": null,
   "id": "c4b7d053",
   "metadata": {},
   "outputs": [],
   "source": [
    "ekmekler = [\"Rye bread\", \"Wheat\", \"White\"]\n",
    "etler = [\"Köfte\", \"Sosis\", \"Tavuk göğsü\"]\n",
    "sebzeler = [\"Marul\", \"Domates\", \"Salatalık\"]\n",
    "soslar = [\"Mayonez\", \"Ballı Hardal\", \"Acı Sos\"]\n",
    "\n",
    "print(\"David'in sandviç dükkânındaki olası kombinasyonlar\")\n",
    "for e in ekmekler:\n",
    "    for et in etler:\n",
    "        for s in sebzeler:\n",
    "            for sos in soslar:\n",
    "                print(e + \" + \" + et + \" + \" + s + \" + \" + sos)"
   ]
  },
  {
   "cell_type": "code",
   "execution_count": null,
   "id": "26303612",
   "metadata": {},
   "outputs": [],
   "source": [
    "for i in range(5):\n",
    "    print(\"Hepiniz Hoşgeldiniz!!\")"
   ]
  },
  {
   "cell_type": "code",
   "execution_count": null,
   "id": "9b41b114",
   "metadata": {},
   "outputs": [],
   "source": [
    "for i in range(5):\n",
    "    print(i, \"Hepiniz Hoşgeldiniz!!\")"
   ]
  },
  {
   "cell_type": "code",
   "execution_count": null,
   "id": "d331799b",
   "metadata": {},
   "outputs": [],
   "source": [
    "print(list(range(0, 5, 1)))  # başlangıç = 0, bitiş = 5, adım = 1, yani 0, 1, 2, 3, 4 listesi\n",
    "print(list(range(0, 5, 2)))  # başlangıç = 0, bitiş = 5, adım = 2, yani 0, 2, 4 listesi\n",
    "print(list(range(2, 5)))  # başlangıç = 2, bitiş = 5, adım = 1, yani 2, 3, 4 listesi\n",
    "print(list(range(0, 10, 2)))  # başlangıç = 0, bitiş = 10, adım = 2, yani 0, 2, 4, 6, 8 listesi"
   ]
  },
  {
   "cell_type": "code",
   "execution_count": null,
   "id": "ce60cc5c",
   "metadata": {},
   "outputs": [
    {
     "name": "stdout",
     "output_type": "stream",
     "text": [
      "20! = 2432902008176640000\n"
     ]
    }
   ],
   "source": [
    "n = int(input(\"Bir sayı girin: \"))\n",
    "faktorial = 1\n",
    "for i in range(1, n + 1):\n",
    "    faktorial = faktorial * i\n",
    "print(str(n) + \"! =\", faktorial)"
   ]
  },
  {
   "cell_type": "code",
   "execution_count": 15,
   "id": "2de6c25d",
   "metadata": {},
   "outputs": [
    {
     "name": "stdout",
     "output_type": "stream",
     "text": [
      "n = 11\n",
      "n = 22\n",
      "n = 33\n",
      "n = 44\n",
      "n = 55\n",
      "n = 66\n"
     ]
    }
   ],
   "source": [
    "numbers = [11, 22, 33, 44, 55, 66]\n",
    "for n in numbers:\n",
    "    print(\"n =\", n)"
   ]
  },
  {
   "cell_type": "code",
   "execution_count": 16,
   "id": "de6ab336",
   "metadata": {},
   "outputs": [
    {
     "name": "stdout",
     "output_type": "stream",
     "text": [
      "Sum of list items : 150\n"
     ]
    }
   ],
   "source": [
    "numbers = [10, 20, 30, 40, 50]\n",
    "s = 0\n",
    "for i in numbers:\n",
    "    s += i\n",
    "print(\"Sum of list items :\", s)"
   ]
  },
  {
   "cell_type": "code",
   "execution_count": null,
   "id": "3fbd6082",
   "metadata": {},
   "outputs": [],
   "source": [
    "numbers = [10, 20, 30, 40, 50]\n",
    "print(\"Sum of list items :\", sum(numbers))"
   ]
  },
  {
   "cell_type": "code",
   "execution_count": null,
   "id": "efffc1b2",
   "metadata": {},
   "outputs": [],
   "source": [
    "for i in [1, 2, 3, 4, 5]:  # There must be : at the end\n",
    "    print(\"Welcome.\")  # Must indent\n",
    "for i in range(1, 6, 1):  # range(start = 1, end = 6, step = 1)\n",
    "    print(i, end=\" \")\n",
    "for i in range(1, 10, 2):  # range(start = 1, end = 10, step = 2)\n",
    "    print(i, end=\" \")\n",
    "for i in range(10, 0, -1):  # range(start = 10, end = 0, step = -1)\n",
    "    print(i, end=\" \")\n",
    "for ch in \"Hello\":\n",
    "    print(ch, end=\" \")"
   ]
  },
  {
   "cell_type": "code",
   "execution_count": null,
   "id": "c959a624",
   "metadata": {},
   "outputs": [],
   "source": [
    "print(\"s\", \"e\", \"p\", sep=\"-\")"
   ]
  },
  {
   "cell_type": "code",
   "execution_count": null,
   "id": "37a565dd",
   "metadata": {},
   "outputs": [],
   "source": [
    "print(\"1'den 100'e kadar olan sayıların toplamı :\", sum(range(1, 101)))\n",
    "print(\"1'den 100'e kadar olan çift sayıların toplamı :\", sum(range(0, 101, 2)))\n",
    "print(\"1'den 100'e kadar olan tek sayıların toplamı :\", sum(range(1, 100, 2)))"
   ]
  },
  {
   "cell_type": "code",
   "execution_count": null,
   "id": "a75aaf39",
   "metadata": {},
   "outputs": [],
   "source": [
    "# formatting integer value\n",
    "print(\"{:5d}\".format(100))\n",
    "print(\"{:5d}\".format(10))\n",
    "print(\"{:6.3f}\".format(3.14))\n",
    "print(\"{:6.2f}\".format(3.14))"
   ]
  },
  {
   "cell_type": "code",
   "execution_count": null,
   "id": "f8d15b03",
   "metadata": {},
   "outputs": [],
   "source": [
    "n = int(input(\"Enter n :\"))\n",
    "for i in range(1, n + 1):\n",
    "    print(\"{:2d}\".format(i), end=\" \")\n",
    "print()\n",
    "for j in range(n + 5, 10 - n, -1):\n",
    "    print(\"{:2d}\".format(j), end=\" \")\n",
    "print()\n",
    "for k in range(n + 6, 21 - n):\n",
    "    print(\"{:2d}\".format(k), end=\" \")\n",
    "print()\n",
    "for l in range(n + 15, 20 - n, -1):\n",
    "    print(\"{:2d}\".format(l), end=\" \")\n",
    "print()\n",
    "for m in range(n + 16, 31 - n):\n",
    "    print(\"{:2d}\".format(m), end=\" \")"
   ]
  },
  {
   "cell_type": "code",
   "execution_count": null,
   "id": "303f9d2b",
   "metadata": {},
   "outputs": [],
   "source": [
    "n = int(input(\"Enter n :\"))\n",
    "seat_list, element = [], 0\n",
    "\n",
    "for i in range(n):\n",
    "    temp, count = [], 0\n",
    "    for j in range(n):\n",
    "        element += 1\n",
    "        temp.append(element)\n",
    "        count += 1\n",
    "        if count == 5:\n",
    "            seat_list.append(temp)\n",
    "\n",
    "for i in range(len(seat_list)):\n",
    "    if i % 2 == 0:\n",
    "        for j in range(len(seat_list[i])):\n",
    "            print(\"{:2d}\".format(seat_list[i][j]), end=\" \")\n",
    "        print()\n",
    "    else:\n",
    "        for j in range(len(list[i]) - 1, -1, -1):\n",
    "            print(\"{:2d}\".format(seat_list[i][j]), end=\" \")\n",
    "        print()"
   ]
  },
  {
   "cell_type": "code",
   "execution_count": null,
   "id": "54726290",
   "metadata": {},
   "outputs": [],
   "source": [
    "n = int(input(\"Enter n:\"))\n",
    "seat_list, element, even = [], 0, 0\n",
    "\n",
    "for i in range(n):\n",
    "    temp, count = [], 0\n",
    "    for j in range(n):\n",
    "        element += 1\n",
    "        temp.append(element)\n",
    "        count += 1\n",
    "        if count == 5:\n",
    "            if even % 2 == 0:\n",
    "                seat_list.extend(temp)\n",
    "            else:\n",
    "                seat_list.extend(temp[::-1])\n",
    "    even += 1\n",
    "\n",
    "counter = 0\n",
    "for i in list:\n",
    "    if counter % 5 == 0:\n",
    "        print()\n",
    "    print(\"{:2d}\".format(i), end=\" \")\n",
    "    counter += 1"
   ]
  },
  {
   "cell_type": "code",
   "execution_count": null,
   "id": "e53affe5",
   "metadata": {},
   "outputs": [],
   "source": [
    "i = 1\n",
    "while i < 3:\n",
    "    j = 1\n",
    "    while j < 10:\n",
    "        if i == 2 and j == 5:\n",
    "            break\n",
    "        print('{}*{}={}'.format(i, j, i * j))\n",
    "        j += 1\n",
    "    i += 1"
   ]
  },
  {
   "cell_type": "code",
   "execution_count": null,
   "id": "94c56548",
   "metadata": {},
   "outputs": [],
   "source": [
    "i = 2\n",
    "while i < 3:\n",
    "    j = 1\n",
    "    while j < 10:\n",
    "        print('{} * {} = {}'.format(i, j, i * j))\n",
    "        j += 1\n",
    "    print()\n",
    "    i += 1"
   ]
  },
  {
   "cell_type": "code",
   "execution_count": null,
   "id": "23ee3609",
   "metadata": {},
   "outputs": [],
   "source": [
    "for i in range(2, 10):\n",
    "    for j in range(1, 10):\n",
    "        print('{}x{} = {:2d},'.format(i, j, i * j), end = \" \")\n",
    "    print()"
   ]
  },
  {
   "cell_type": "code",
   "execution_count": 17,
   "id": "bda440c8",
   "metadata": {},
   "outputs": [
    {
     "name": "stdout",
     "output_type": "stream",
     "text": [
      "P\n",
      "r\n",
      "g\n",
      "r\n",
      "m\n",
      "m\n",
      "n\n",
      "g\n",
      "Sonuç bitti\n"
     ]
    }
   ],
   "source": [
    "st = 'Programming'\n",
    "# sadece sessiz harfler için çalışan fonksiyon\n",
    "for ch in st:\n",
    "    if ch in ['a', 'e', 'i', 'o', 'u']:\n",
    "        continue  # sesli harf ise sonraki işlemi atla\n",
    "    print(ch)\n",
    "print('Sonuç bitti')"
   ]
  },
  {
   "cell_type": "code",
   "execution_count": null,
   "id": "164ebe60",
   "metadata": {},
   "outputs": [
    {
     "name": "stdout",
     "output_type": "stream",
     "text": [
      "P\n",
      "r\n",
      "Sonuç bitti\n"
     ]
    }
   ],
   "source": [
    "st = 'Programming'\n",
    "# sadece sessiz harfler için çalışan fonksiyon\n",
    "for ch in st:\n",
    "    if ch in ['a', 'e', 'i', 'o', 'u']:\n",
    "        break  ### sesli harf ise döngüyü kır\n",
    "    print(ch)\n",
    "print('Sonuç bitti')"
   ]
  },
  {
   "cell_type": "code",
   "execution_count": 19,
   "id": "fd1e99e0",
   "metadata": {},
   "outputs": [
    {
     "name": "stdout",
     "output_type": "stream",
     "text": [
      "[8, 1, 6, 10, 2, 7, 3, 9, 5, 4]\n"
     ]
    }
   ],
   "source": [
    "import random as rd\n",
    "\n",
    "a = list(range(1, 11))\n",
    "rd.shuffle(a)\n",
    "print(a)"
   ]
  },
  {
   "cell_type": "code",
   "execution_count": 20,
   "id": "25deeb80",
   "metadata": {},
   "outputs": [
    {
     "name": "stdout",
     "output_type": "stream",
     "text": [
      "Karıştırılmış liste: [5, 4, 3, 1, 2]\n",
      "Seçilen rastgele eleman: 4\n",
      "3 rastgele örnek: [1, 5, 4]\n"
     ]
    }
   ],
   "source": [
    "import random\n",
    "\n",
    "# Liste oluşturma\n",
    "elements = [1, 2, 3, 4, 5]\n",
    "\n",
    "# 1. shuffle() : Liste elemanlarını rastgele karıştırır\n",
    "random.shuffle(elements)\n",
    "print(\"Karıştırılmış liste:\", elements)\n",
    "\n",
    "# 2. choice() : Listeden rastgele bir eleman seçer\n",
    "random_choice = random.choice(elements)\n",
    "print(\"Seçilen rastgele eleman:\", random_choice)\n",
    "\n",
    "# 3. sample() : Listeden rastgele belirli sayıda eleman seçer\n",
    "number_of_samples = 3\n",
    "random_samples = random.sample(elements, number_of_samples)\n",
    "print(f\"{number_of_samples} rastgele örnek:\", random_samples)"
   ]
  },
  {
   "cell_type": "code",
   "execution_count": 21,
   "id": "1d08c6af",
   "metadata": {},
   "outputs": [
    {
     "name": "stdout",
     "output_type": "stream",
     "text": [
      "Ortalama yaş: 26.75\n"
     ]
    }
   ],
   "source": [
    "person1 = ['David Doe', 20, 1, 180.0, 100.0]\n",
    "person2 = ['John Smith', 25, 1, 170.0, 70.0]\n",
    "person3 = ['Jane Carter', 22, 0, 169.0, 60.0]\n",
    "person4 = ['Peter Kelly', 40, 1, 150.0, 50.0]\n",
    "\n",
    "# Tüm kişileri bir araya getir\n",
    "person_list = person1 + person2 + person3 + person4\n",
    "\n",
    "n_persons = int(len(person_list) / 5)  # Kişi sayısını hesapla (her kişi için 5 bilgiyi dikkate alarak)\n",
    "age_sum = 0.0  # Yaş toplamını başlat\n",
    "\n",
    "# Kişilerin yaşlarını topla\n",
    "for age in person_list[1::5]:\n",
    "    age_sum += age\n",
    "\n",
    "# Yaşların ortalamasını hesapla\n",
    "average_age = float(age_sum) / n_persons\n",
    "print('Ortalama yaş: ' + str(average_age))"
   ]
  },
  {
   "cell_type": "code",
   "execution_count": 8,
   "id": "fdf7e216",
   "metadata": {},
   "outputs": [
    {
     "data": {
      "text/plain": [
       "['a', 'b', 'c', 'd', 'e', 'f']"
      ]
     },
     "execution_count": 8,
     "metadata": {},
     "output_type": "execute_result"
    }
   ],
   "source": [
    "a_list = ['a', 'b', 'c', 'd', 'e']\n",
    "a_list.append('f') # add 'f'\n",
    "a_list"
   ]
  },
  {
   "cell_type": "code",
   "execution_count": 3,
   "id": "3fa307bc",
   "metadata": {},
   "outputs": [
    {
     "data": {
      "text/plain": [
       "[10, 20, 30, 40, 50]"
      ]
     },
     "execution_count": 3,
     "metadata": {},
     "output_type": "execute_result"
    }
   ],
   "source": [
    "n_list = [10, 20, 30, 40]\n",
    "n_list.append(50) # add 50\n",
    "n_list"
   ]
  },
  {
   "cell_type": "code",
   "execution_count": 4,
   "id": "179b82e8",
   "metadata": {},
   "outputs": [
    {
     "data": {
      "text/plain": [
       "['a', 'b', 'c', 1, 2, 3]"
      ]
     },
     "execution_count": 4,
     "metadata": {},
     "output_type": "execute_result"
    }
   ],
   "source": [
    "list1 = ['a', 'b', 'c']\n",
    "list2 = [1, 2, 3]\n",
    "list1.extend(list2)\n",
    "list1"
   ]
  },
  {
   "cell_type": "code",
   "execution_count": 5,
   "id": "8d069bb9",
   "metadata": {},
   "outputs": [
    {
     "data": {
      "text/plain": [
       "['a', 'b', 'c', 1, 2, 3, 'd']"
      ]
     },
     "execution_count": 5,
     "metadata": {},
     "output_type": "execute_result"
    }
   ],
   "source": [
    "list1.extend('d')\n",
    "list1"
   ]
  },
  {
   "cell_type": "code",
   "execution_count": 6,
   "id": "acb1a188",
   "metadata": {},
   "outputs": [
    {
     "data": {
      "text/plain": [
       "[11, 22, 33, 44, [55, 66]]"
      ]
     },
     "execution_count": 6,
     "metadata": {},
     "output_type": "execute_result"
    }
   ],
   "source": [
    "list3 = [11, 22, 33, 44]\n",
    "list3.append([55, 66])\n",
    "list3"
   ]
  },
  {
   "cell_type": "code",
   "execution_count": 7,
   "id": "c62b5437",
   "metadata": {},
   "outputs": [
    {
     "data": {
      "text/plain": [
       "[11, 22, 33, 44, 55, 66]"
      ]
     },
     "execution_count": 7,
     "metadata": {},
     "output_type": "execute_result"
    }
   ],
   "source": [
    "list4 = [11, 22, 33, 44]\n",
    "list4.extend([55, 66])\n",
    "list4"
   ]
  },
  {
   "cell_type": "code",
   "execution_count": 10,
   "id": "429031fb",
   "metadata": {},
   "outputs": [
    {
     "name": "stdout",
     "output_type": "stream",
     "text": [
      "[11, 22, 33, 44]\n",
      "[11, 22, 33]\n",
      "[11, 33]\n"
     ]
    }
   ],
   "source": [
    "n_list = [11, 22, 33, 44]\n",
    "print(n_list) # print the entire items\n",
    "\n",
    "del n_list[3] # Delete 44\n",
    "print(n_list)\n",
    "\n",
    "n_list.remove(22)\n",
    "print(n_list)"
   ]
  }
 ],
 "metadata": {
  "kernelspec": {
   "display_name": "base",
   "language": "python",
   "name": "python3"
  },
  "language_info": {
   "codemirror_mode": {
    "name": "ipython",
    "version": 3
   },
   "file_extension": ".py",
   "mimetype": "text/x-python",
   "name": "python",
   "nbconvert_exporter": "python",
   "pygments_lexer": "ipython3",
   "version": "3.13.2"
  }
 },
 "nbformat": 4,
 "nbformat_minor": 5
}
